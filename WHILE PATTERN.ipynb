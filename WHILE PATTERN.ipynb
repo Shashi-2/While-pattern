{
 "cells": [
  {
   "cell_type": "code",
   "execution_count": 3,
   "id": "a2c8eeb8",
   "metadata": {},
   "outputs": [],
   "source": [
    "#5\n",
    "#44\n",
    "#333\n",
    "#2222\n",
    "#11111"
   ]
  },
  {
   "cell_type": "code",
   "execution_count": 17,
   "id": "44db37cb",
   "metadata": {},
   "outputs": [
    {
     "name": "stdout",
     "output_type": "stream",
     "text": [
      "5\n",
      "44\n",
      "333\n",
      "2222\n",
      "11111\n"
     ]
    }
   ],
   "source": [
    "n=1\n",
    "x=5\n",
    "while n<=x:      #n=1      #x=5,4\n",
    "    y=5          \n",
    "    while x<=y:  #x=5,4,3,2,1      #y=(5),(5,4),(5,4,3),(5,4,3,2),(5,4,3,2,1)\n",
    "        print(x,end=\"\")    #x=(5),(4,4),(3,3,3),(2,2,2,2),(1,1,1,1,1)\n",
    "        y=y-1    #y=5,4,3,2,1,0\n",
    "    print(\"\")    \n",
    "    x=x-1        #x=5,4,3,2,1,0"
   ]
  },
  {
   "cell_type": "code",
   "execution_count": 2,
   "id": "dca7adfb",
   "metadata": {},
   "outputs": [
    {
     "name": "stdout",
     "output_type": "stream",
     "text": [
      "5\n",
      "54\n",
      "543\n",
      "5432\n",
      "54321\n"
     ]
    }
   ],
   "source": [
    "n=1\n",
    "x=5\n",
    "while n<=x:  #x=5,4,3,2,1,0\n",
    "    y=5      #y=5,5,5,5,5,5\n",
    "    while x<=y:                               #x:y=(5:5),(5:4*),                                                \n",
    "        print(y,end=\"\")                           #(4:5),(4:4),(4:3*),\n",
    "        y=y-1   #y=4|4,3|4,3,2|4,3,2,1|4,3,2,1,0  #(3,5),(3:4),(3:3),(3:2*)\n",
    "    print(\"\")                                     #(2:5),(2:4),(2:3),(2:2),(2:1*)\n",
    "    x=x-1       #x=4,3,2,1,0                      #(1:5),(1:4),(1:3),(1:2),(1:1),(1:0*)"
   ]
  },
  {
   "cell_type": "code",
   "execution_count": 23,
   "id": "e7713813",
   "metadata": {},
   "outputs": [
    {
     "name": "stdout",
     "output_type": "stream",
     "text": [
      "54321\n",
      "5432\n",
      "543\n",
      "54\n",
      "5\n"
     ]
    }
   ],
   "source": [
    "n=5\n",
    "x=1\n",
    "while x<=n:     #x:n=1:5\n",
    "    y=5\n",
    "    while y>=x:                                 #y:x=(5:1),(4:1),(3:1),(2:1),(1:1),(0:1*)\n",
    "        print(y,end=\"\")                             #(5:2),(4:2),(3:2),(2:2),(1:2*)\n",
    "        y=y-1   #y=4,3,2,1,0|4,3,2,1|4,3,2|4,3      #(5:3),(4:3),(3:3),(2:3*)\n",
    "    print()                                         #(5:4),(4:4),(3:4*)\n",
    "    x=x+1       #x=2,3,4,5                          #(5:5),(4:5*)"
   ]
  },
  {
   "cell_type": "code",
   "execution_count": 45,
   "id": "415864ce",
   "metadata": {},
   "outputs": [
    {
     "name": "stdout",
     "output_type": "stream",
     "text": [
      "12345\n",
      "1234\n",
      "123\n",
      "12\n",
      "1\n"
     ]
    }
   ],
   "source": [
    "n=1\n",
    "x=5\n",
    "while x>=n:\n",
    "    y=1\n",
    "    while y<=x:                                #y:x=(1:5),(2:5),(3:5),(4:5),(5:5)\n",
    "        print(y,end=\"\")                            #(1:4),(2:4),(3:4),(4:4)\n",
    "        y=y+1  #y=2,3,4,5|2,3,4|2,3|2              #(1:3),(2:3),(3:3)\n",
    "    print()                                        #(1:2),(2:2)\n",
    "    x=x-1      #x=4,3,2,1                          #(1:1)"
   ]
  },
  {
   "cell_type": "code",
   "execution_count": 12,
   "id": "3ebf9b58",
   "metadata": {},
   "outputs": [
    {
     "name": "stdout",
     "output_type": "stream",
     "text": [
      "1\n",
      "23\n",
      "456\n",
      "78910\n"
     ]
    }
   ],
   "source": [
    "n=1\n",
    "x=10\n",
    "while n<=x:\n",
    "    y=10\n",
    "    while y>=x:                   #y:x=(1:10)\n",
    "        print(n,end=\"\")               #(10:11),(11:11)\n",
    "        y=y-1                         #(10:12),(11:12),(12:12)\n",
    "        n=n+1                         #(10:13),(11:13),(12:13),(13:13)\n",
    "    print()                           \n",
    "    x=x-1"
   ]
  },
  {
   "cell_type": "code",
   "execution_count": 4,
   "id": "ea92ee98",
   "metadata": {},
   "outputs": [
    {
     "name": "stdout",
     "output_type": "stream",
     "text": [
      "    *\n",
      "   **\n",
      "  ***\n",
      " ****\n",
      "*****\n"
     ]
    }
   ],
   "source": [
    "n=5\n",
    "x=1                                                   \n",
    "while x<=n:                                      \n",
    "    y=1                                  #[y,x=n-x]={5-1,1},{}             \n",
    "    while y<=n-x:\n",
    "        print(\" \",end=\"\")\n",
    "        y+=1\n",
    "    z=1\n",
    "    while z<=x:\n",
    "        print(\"*\",end=\"\")\n",
    "        z+=1\n",
    "    print()\n",
    "    x+=1"
   ]
  },
  {
   "cell_type": "code",
   "execution_count": 23,
   "id": "bb854f1d",
   "metadata": {},
   "outputs": [
    {
     "name": "stdout",
     "output_type": "stream",
     "text": [
      "    *\n",
      "   ***\n",
      "  *****\n",
      " *******\n",
      "*********\n"
     ]
    }
   ],
   "source": [
    "n=5\n",
    "x=1                                                  \n",
    "while x<=n:                                  \n",
    "    y=1                                              \n",
    "    while y<=n-x:\n",
    "        print(\" \",end=\"\")\n",
    "        y+=1\n",
    "    z=1\n",
    "    while z<=x:\n",
    "        print(\"*\",end=\"\")\n",
    "        z+=1\n",
    "    w=1\n",
    "    while w<x:\n",
    "        print(\"*\",end=\"\")\n",
    "        w+=1\n",
    "    print()\n",
    "    x+=1\n",
    "    "
   ]
  }
 ],
 "metadata": {
  "kernelspec": {
   "display_name": "Python 3 (ipykernel)",
   "language": "python",
   "name": "python3"
  },
  "language_info": {
   "codemirror_mode": {
    "name": "ipython",
    "version": 3
   },
   "file_extension": ".py",
   "mimetype": "text/x-python",
   "name": "python",
   "nbconvert_exporter": "python",
   "pygments_lexer": "ipython3",
   "version": "3.9.0"
  }
 },
 "nbformat": 4,
 "nbformat_minor": 5
}
